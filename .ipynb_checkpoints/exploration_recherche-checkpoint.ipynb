{
 "cells": [
  {
   "cell_type": "code",
   "execution_count": null,
   "metadata": {},
   "outputs": [],
   "source": []
  },
  {
   "cell_type": "code",
   "execution_count": 8,
   "metadata": {},
   "outputs": [],
   "source": [
    "def recherche_annonce_arrondissement(arrondissement,nombre_annonce) :\n",
    "    \"\"\"\n",
    "    this function returns the flat that are in a certain neighborhood\n",
    "    :param arrondissement: a number that represent the neighborhood\n",
    "    :param nombre_annonce: a number that represente the number of annonce you whant to see\n",
    "    :return: a dataframe of all the flat that are in an neighborhood\n",
    "    :rtype: a dataframe \n",
    "\n",
    "    \"\"\"\n",
    "    df=pd.read_csv('data.csv')\n",
    "    df2=df.copy()\n",
    "    df2 = df2[df2.arrondissement == arrondissement]\n",
    "    return df2.head(nombre_annonce)"
   ]
  },
  {
   "cell_type": "code",
   "execution_count": 11,
   "metadata": {},
   "outputs": [],
   "source": [
    "def recherche_annonce_par_prix(prix_max):\n",
    "    \"\"\"\n",
    "    this function returns the flat by prices that fit with the client wallet\n",
    "    :param prix_max: a number that represent the price max\n",
    "    \n",
    "    :return: a dataframe of all the flat that are under the price max\n",
    "    :rtype: a dataframe \n",
    "    \n",
    "    \"\"\"\n",
    "    df=pd.read_csv('data.csv')\n",
    "    df2=df.copy()\n",
    "    df2 = df2[ df2.prix <= prix_max]\n",
    "    return df2.head()"
   ]
  },
  {
   "cell_type": "code",
   "execution_count": 12,
   "metadata": {},
   "outputs": [],
   "source": [
    "\n",
    "def fonction_annonce_par_arrondissement_prixmc(arrondissement,nombre_annonce):\n",
    "    \"\"\"\n",
    "    this function returns the best opportunity of price by neighborhood\n",
    "    :param arrondissement : the number of neighborhood  \n",
    "    :param nombre_annonce : the number of annonce we want to see  \n",
    "    :return: a dataframe of price by m2 order by asc, depending on the number of neighborhood\n",
    "    :rtype: a dataframe \n",
    "    \n",
    "    \"\"\"\n",
    "    df=pd.read_csv('data.csv')\n",
    "    df2=df.copy()\n",
    "    df2 = df2[ df2.arrondissement == arrondissement]\n",
    "    df2=df2.sort_values(by=['prix_mc'],ascending=True)\n",
    "    print(\"Meilleur prix au m2 dans le\"+ arrondissement)\n",
    "    return df2.head(nombre_annonce)"
   ]
  },
  {
   "cell_type": "code",
   "execution_count": null,
   "metadata": {},
   "outputs": [],
   "source": []
  },
  {
   "cell_type": "code",
   "execution_count": null,
   "metadata": {},
   "outputs": [],
   "source": []
  },
  {
   "cell_type": "code",
   "execution_count": null,
   "metadata": {},
   "outputs": [],
   "source": []
  },
  {
   "cell_type": "code",
   "execution_count": null,
   "metadata": {},
   "outputs": [],
   "source": []
  },
  {
   "cell_type": "code",
   "execution_count": null,
   "metadata": {},
   "outputs": [],
   "source": []
  }
 ],
 "metadata": {
  "kernelspec": {
   "display_name": "Python 3",
   "language": "python",
   "name": "python3"
  }
 },
 "nbformat": 4,
 "nbformat_minor": 4
}
