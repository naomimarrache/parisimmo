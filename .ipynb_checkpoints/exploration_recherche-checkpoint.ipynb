{
 "cells": [
  {
   "cell_type": "code",
   "execution_count": null,
   "metadata": {},
   "outputs": [],
   "source": []
  },
  {
   "cell_type": "code",
   "execution_count": 8,
   "metadata": {},
   "outputs": [],
   "source": [
    "def recherche_annonce_arrondissement(arrondissement,nombre_annonce) :\n",
    "    \"\"\"\n",
    "    this function returns the flat that are in a certain neighborhood\n",
    "    :param arrondissement: a number that represent the neighborhood\n",
    "    :param nombre_annonce: a number that represente the number of annonce you whant to see\n",
    "    :return: a dataframe of all the flat that are in an neighborhood\n",
    "    :rtype: a dataframe \n",
    "\n",
    "    \"\"\"\n",
    "    df=pd.read_csv('data.csv')\n",
    "    df2=df.copy()\n",
    "    df2 = df2[df2.arrondissement == arrondissement]\n",
    "    return df2.head(nombre_annonce)"
   ]
  },
  {
   "cell_type": "code",
   "execution_count": 11,
   "metadata": {},
   "outputs": [],
   "source": [
    "def recherche_annonce_par_prix(prix_max):\n",
    "    \"\"\"\n",
    "    this function returns the flat by prices that fit with the client wallet\n",
    "    :param prix_max: a number that represent the price max\n",
    "    \n",
    "    :return: a dataframe of all the flat that are under the price max\n",
    "    :rtype: a dataframe \n",
    "    \n",
    "    \"\"\"\n",
    "    df=pd.read_csv('data.csv')\n",
    "    df2=df.copy()\n",
    "    df2 = df2[ df2.prix <= prix_max]\n",
    "    return df2.head()"
   ]
  },
  {
   "cell_type": "code",
   "execution_count": 16,
   "metadata": {},
   "outputs": [],
   "source": [
    "\n",
    "def fonction_annonce_par_arrondissement_prixmc(arrondissement,nombre_annonce):\n",
    "    \"\"\"\n",
    "    this function returns the best opportunity of price by neighborhood\n",
    "    :param arrondissement : the number of neighborhood  \n",
    "    :param nombre_annonce : the number of annonce we want to see  \n",
    "    :return: a dataframe of price by m2 order by asc, depending on the number of neighborhood\n",
    "    :rtype: a dataframe \n",
    "    \n",
    "    \"\"\"\n",
    "    df=pd.read_csv('data.csv')\n",
    "    df2=df.copy()\n",
    "    df2 = df2[ df2.arrondissement == arrondissement]\n",
    "    df2=df2.sort_values(by=['prix_mc'],ascending=True)\n",
    "    print(arrondissement)\n",
    "    return df2.head(nombre_annonce)"
   ]
  },
  {
   "cell_type": "code",
   "execution_count": 15,
   "metadata": {},
   "outputs": [
    {
     "name": "stdout",
     "output_type": "stream",
     "text": [
      "    Unnamed: 0  arrondissement  nb_pieces  nb_chambres  surface    prix  \\\n",
      "6            6              18          2          NaN       29  241000   \n",
      "9            9              18          2          NaN       29  263500   \n",
      "14          14              18          1          NaN       23  268200   \n",
      "16          16              18          2          NaN       27  270000   \n",
      "17          17              18          2          NaN       27  270000   \n",
      "27          27              18          1          NaN       23  288000   \n",
      "37          37              18          2          NaN       24  310000   \n",
      "40          40              18          1          NaN       34  319000   \n",
      "41          41              18          3          NaN       38  321000   \n",
      "53          53              18          2          NaN       32  336700   \n",
      "\n",
      "                                                 lien       prix_mc  \n",
      "6   https://www.century21.fr/trouver_logement/deta...   8310.344828  \n",
      "9   https://www.century21.fr/trouver_logement/deta...   9086.206897  \n",
      "14  https://www.century21.fr/trouver_logement/deta...  11660.869565  \n",
      "16  https://www.century21.fr/trouver_logement/deta...  10000.000000  \n",
      "17  https://www.century21.fr/trouver_logement/deta...  10000.000000  \n",
      "27  https://www.century21.fr/trouver_logement/deta...  12521.739130  \n",
      "37  https://www.century21.fr/trouver_logement/deta...  12916.666667  \n",
      "40  https://www.century21.fr/trouver_logement/deta...   9382.352941  \n",
      "41  https://www.century21.fr/trouver_logement/deta...   8447.368421  \n",
      "53  https://www.century21.fr/trouver_logement/deta...  10521.875000  \n",
      "   Unnamed: 0  arrondissement  nb_pieces  nb_chambres  surface    prix  \\\n",
      "0           0               5          2          NaN       17  230000   \n",
      "1           1              11          2          NaN       50  235000   \n",
      "2           2              11          1          NaN       20  235000   \n",
      "3           3              19          1          NaN       29  236000   \n",
      "4           4              11          1          NaN       19  237000   \n",
      "\n",
      "                                                lien       prix_mc  \n",
      "0  https://www.century21.fr/trouver_logement/deta...  13529.411765  \n",
      "1  https://www.century21.fr/trouver_logement/deta...   4700.000000  \n",
      "2  https://www.century21.fr/trouver_logement/deta...  11750.000000  \n",
      "3  https://www.century21.fr/trouver_logement/deta...   8137.931034  \n",
      "4  https://www.century21.fr/trouver_logement/deta...  12473.684211  \n"
     ]
    },
    {
     "ename": "TypeError",
     "evalue": "can only concatenate str (not \"int\") to str",
     "output_type": "error",
     "traceback": [
      "\u001b[1;31m---------------------------------------------------------------------------\u001b[0m",
      "\u001b[1;31mTypeError\u001b[0m                                 Traceback (most recent call last)",
      "\u001b[1;32m<ipython-input-15-0909635cee5d>\u001b[0m in \u001b[0;36m<module>\u001b[1;34m\u001b[0m\n\u001b[0;32m      6\u001b[0m \u001b[1;33m\u001b[0m\u001b[0m\n\u001b[0;32m      7\u001b[0m \u001b[1;33m\u001b[0m\u001b[0m\n\u001b[1;32m----> 8\u001b[1;33m \u001b[0mprint\u001b[0m\u001b[1;33m(\u001b[0m\u001b[0mfonction_annonce_par_arrondissement_prixmc\u001b[0m\u001b[1;33m(\u001b[0m\u001b[1;36m5\u001b[0m\u001b[1;33m,\u001b[0m\u001b[1;36m8\u001b[0m\u001b[1;33m)\u001b[0m\u001b[1;33m.\u001b[0m\u001b[0mlien\u001b[0m\u001b[1;33m)\u001b[0m\u001b[1;33m\u001b[0m\u001b[1;33m\u001b[0m\u001b[0m\n\u001b[0m",
      "\u001b[1;32m<ipython-input-12-56313bb63a6f>\u001b[0m in \u001b[0;36mfonction_annonce_par_arrondissement_prixmc\u001b[1;34m(arrondissement, nombre_annonce)\u001b[0m\n\u001b[0;32m     12\u001b[0m     \u001b[0mdf2\u001b[0m \u001b[1;33m=\u001b[0m \u001b[0mdf2\u001b[0m\u001b[1;33m[\u001b[0m \u001b[0mdf2\u001b[0m\u001b[1;33m.\u001b[0m\u001b[0marrondissement\u001b[0m \u001b[1;33m==\u001b[0m \u001b[0marrondissement\u001b[0m\u001b[1;33m]\u001b[0m\u001b[1;33m\u001b[0m\u001b[1;33m\u001b[0m\u001b[0m\n\u001b[0;32m     13\u001b[0m     \u001b[0mdf2\u001b[0m\u001b[1;33m=\u001b[0m\u001b[0mdf2\u001b[0m\u001b[1;33m.\u001b[0m\u001b[0msort_values\u001b[0m\u001b[1;33m(\u001b[0m\u001b[0mby\u001b[0m\u001b[1;33m=\u001b[0m\u001b[1;33m[\u001b[0m\u001b[1;34m'prix_mc'\u001b[0m\u001b[1;33m]\u001b[0m\u001b[1;33m,\u001b[0m\u001b[0mascending\u001b[0m\u001b[1;33m=\u001b[0m\u001b[1;32mTrue\u001b[0m\u001b[1;33m)\u001b[0m\u001b[1;33m\u001b[0m\u001b[1;33m\u001b[0m\u001b[0m\n\u001b[1;32m---> 14\u001b[1;33m     \u001b[0mprint\u001b[0m\u001b[1;33m(\u001b[0m\u001b[1;34m\"Meilleur prix au m2 dans le\"\u001b[0m\u001b[1;33m+\u001b[0m \u001b[0marrondissement\u001b[0m\u001b[1;33m)\u001b[0m\u001b[1;33m\u001b[0m\u001b[1;33m\u001b[0m\u001b[0m\n\u001b[0m\u001b[0;32m     15\u001b[0m     \u001b[1;32mreturn\u001b[0m \u001b[0mdf2\u001b[0m\u001b[1;33m.\u001b[0m\u001b[0mhead\u001b[0m\u001b[1;33m(\u001b[0m\u001b[0mnombre_annonce\u001b[0m\u001b[1;33m)\u001b[0m\u001b[1;33m\u001b[0m\u001b[1;33m\u001b[0m\u001b[0m\n",
      "\u001b[1;31mTypeError\u001b[0m: can only concatenate str (not \"int\") to str"
     ]
    }
   ],
   "source": [
    "print(recherche_annonce_arrondissement(18,10))\n",
    "\n",
    "\n",
    "\n",
    "print(recherche_annonce_par_prix(1000000))\n",
    "\n",
    "\n",
    "print(fonction_annonce_par_arrondissement_prixmc(5,8).lien)"
   ]
  },
  {
   "cell_type": "code",
   "execution_count": null,
   "metadata": {},
   "outputs": [],
   "source": []
  },
  {
   "cell_type": "code",
   "execution_count": null,
   "metadata": {},
   "outputs": [],
   "source": []
  },
  {
   "cell_type": "code",
   "execution_count": null,
   "metadata": {},
   "outputs": [],
   "source": []
  },
  {
   "cell_type": "code",
   "execution_count": null,
   "metadata": {},
   "outputs": [],
   "source": []
  }
 ],
 "metadata": {
  "kernelspec": {
   "display_name": "Python 3",
   "language": "python",
   "name": "python3"
  }
 },
 "nbformat": 4,
 "nbformat_minor": 4
}
